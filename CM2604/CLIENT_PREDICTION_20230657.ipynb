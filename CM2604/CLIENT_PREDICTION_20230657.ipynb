{
  "nbformat": 4,
  "nbformat_minor": 0,
  "metadata": {
    "colab": {
      "provenance": [],
      "authorship_tag": "ABX9TyPQXGgnlxG7e8TNEIBzFD5n",
      "include_colab_link": true
    },
    "kernelspec": {
      "name": "python3",
      "display_name": "Python 3"
    },
    "language_info": {
      "name": "python"
    }
  },
  "cells": [
    {
      "cell_type": "markdown",
      "metadata": {
        "id": "view-in-github",
        "colab_type": "text"
      },
      "source": [
        "<a href=\"https://colab.research.google.com/github/Itzz-Hashan/Client-Prediction-System/blob/main/CM2604/CLIENT_PREDICTION_20230657.ipynb\" target=\"_parent\"><img src=\"https://colab.research.google.com/assets/colab-badge.svg\" alt=\"Open In Colab\"/></a>"
      ]
    },
    {
      "cell_type": "markdown",
      "source": [
        "\n",
        "\n",
        "# ML Coursework\n",
        "\n"
      ],
      "metadata": {
        "id": "cX8Eim0soQl-"
      }
    },
    {
      "cell_type": "markdown",
      "source": [
        "##Data preproccesing"
      ],
      "metadata": {
        "id": "TYGtdP2SoevN"
      }
    },
    {
      "cell_type": "markdown",
      "source": [
        "###Importing libraries"
      ],
      "metadata": {
        "id": "n3Mg7x-QoqGN"
      }
    },
    {
      "cell_type": "code",
      "execution_count": null,
      "metadata": {
        "id": "fOHFJQCEnx7D"
      },
      "outputs": [],
      "source": [
        "import numpy as np\n",
        "import matplotlib.pyplot as plt\n",
        "import pandas as pd\n",
        "import seaborn as sns"
      ]
    },
    {
      "cell_type": "markdown",
      "source": [
        "###Data importing"
      ],
      "metadata": {
        "id": "rcaPn5t3pOq9"
      }
    },
    {
      "cell_type": "code",
      "source": [],
      "metadata": {
        "id": "hBpA1Zn9pauW"
      },
      "execution_count": null,
      "outputs": []
    }
  ]
}