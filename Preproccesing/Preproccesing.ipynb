{
  "nbformat": 4,
  "nbformat_minor": 0,
  "metadata": {
    "colab": {
      "provenance": [],
      "authorship_tag": "ABX9TyNOHdsD6yjpI2OAXZHPMU3W",
      "include_colab_link": true
    },
    "kernelspec": {
      "name": "python3",
      "display_name": "Python 3"
    },
    "language_info": {
      "name": "python"
    }
  },
  "cells": [
    {
      "cell_type": "markdown",
      "metadata": {
        "id": "view-in-github",
        "colab_type": "text"
      },
      "source": [
        "<a href=\"https://colab.research.google.com/github/Itzz-Hashan/Client-Prediction-System/blob/Data-cleaning-process/Preproccesing/Preproccesing.ipynb\" target=\"_parent\"><img src=\"https://colab.research.google.com/assets/colab-badge.svg\" alt=\"Open In Colab\"/></a>"
      ]
    },
    {
      "cell_type": "code",
      "execution_count": null,
      "metadata": {
        "colab": {
          "base_uri": "https://localhost:8080/"
        },
        "id": "wqb5Ef06slim",
        "outputId": "4f5bef23-fe68-4a13-f309-ddb91550771c"
      },
      "outputs": [
        {
          "output_type": "stream",
          "name": "stdout",
          "text": [
            "New dataset saved as: bank-add-new-dataset.csv\n"
          ]
        }
      ],
      "source": [
        "import pandas as pd\n",
        "\n",
        "# File path to the original dataset\n",
        "file_path = \"bank-additional-full.csv\"\n",
        "\n",
        "# Load the dataset with the correct delimiter\n",
        "data = pd.read_csv(file_path, delimiter=\";\")\n",
        "\n",
        "# Save the dataset as a new CSV file\n",
        "new_file_path = \"bank-add-new-dataset.csv\"\n",
        "data.to_csv(new_file_path, index=False)\n",
        "\n",
        "print(f\"New dataset saved as: {new_file_path}\")\n"
      ]
    },
    {
      "cell_type": "markdown",
      "source": [
        "Duplicates checkout"
      ],
      "metadata": {
        "id": "HwFGbaJH1WNu"
      }
    },
    {
      "cell_type": "markdown",
      "source": [],
      "metadata": {
        "id": "zov0p_KJGCRg"
      }
    },
    {
      "cell_type": "code",
      "source": [
        "import pandas as pd\n",
        "\n",
        "# Load the dataset\n",
        "file_path = \"bank-add-new-dataset.csv\"\n",
        "data = pd.read_csv(file_path)\n",
        "\n",
        "# Check for duplicates\n",
        "duplicate_count = data.duplicated().sum()\n",
        "print(f\"Number of duplicate rows: {duplicate_count}\")\n",
        "\n",
        "# Display the duplicate rows\n",
        "if duplicate_count > 0:\n",
        "    duplicates = data[data.duplicated()]\n",
        "    print(\"Duplicate rows:\")\n",
        "    print(duplicates)\n",
        "else:\n",
        "    print(\"No duplicate rows found.\")\n",
        "\n",
        "# Remove duplicates if any\n",
        "data_cleaned = data.drop_duplicates()\n",
        "\n",
        "# Save the cleaned dataset\n",
        "cleaned_file_path = \"bank-add-new-dataset-cleaned.csv\"\n",
        "data_cleaned.to_csv(cleaned_file_path, index=False)\n",
        "print(f\"Cleaned dataset saved as: {cleaned_file_path}\")\n"
      ],
      "metadata": {
        "colab": {
          "base_uri": "https://localhost:8080/"
        },
        "id": "_TMxCcr91N6B",
        "outputId": "cacc1fc9-fd37-4b0e-cda2-dea59442cf3e"
      },
      "execution_count": null,
      "outputs": [
        {
          "output_type": "stream",
          "name": "stdout",
          "text": [
            "Number of duplicate rows: 12\n",
            "Duplicate rows:\n",
            "       age          job   marital            education  default housing loan  \\\n",
            "1266    39  blue-collar   married             basic.6y       no      no   no   \n",
            "12261   36      retired   married              unknown       no      no   no   \n",
            "14234   27   technician    single  professional.course       no      no   no   \n",
            "16956   47   technician  divorced          high.school       no     yes   no   \n",
            "18465   32   technician    single  professional.course       no     yes   no   \n",
            "20216   55     services   married          high.school  unknown      no   no   \n",
            "20534   41   technician   married  professional.course       no     yes   no   \n",
            "25217   39       admin.   married    university.degree       no      no   no   \n",
            "28477   24     services    single          high.school       no     yes   no   \n",
            "32516   35       admin.   married    university.degree       no     yes   no   \n",
            "36951   45       admin.   married    university.degree       no      no   no   \n",
            "38281   71      retired    single    university.degree       no      no   no   \n",
            "\n",
            "         contact month day_of_week  ...  campaign  pdays  previous  \\\n",
            "1266   telephone   may         thu  ...         1    999         0   \n",
            "12261  telephone   jul         thu  ...         1    999         0   \n",
            "14234   cellular   jul         mon  ...         2    999         0   \n",
            "16956   cellular   jul         thu  ...         3    999         0   \n",
            "18465   cellular   jul         thu  ...         1    999         0   \n",
            "20216   cellular   aug         mon  ...         1    999         0   \n",
            "20534   cellular   aug         tue  ...         1    999         0   \n",
            "25217   cellular   nov         tue  ...         2    999         0   \n",
            "28477   cellular   apr         tue  ...         1    999         0   \n",
            "32516   cellular   may         fri  ...         4    999         0   \n",
            "36951   cellular   jul         thu  ...         1    999         0   \n",
            "38281  telephone   oct         tue  ...         1    999         0   \n",
            "\n",
            "          poutcome emp.var.rate  cons.price.idx  cons.conf.idx  euribor3m  \\\n",
            "1266   nonexistent          1.1          93.994          -36.4      4.855   \n",
            "12261  nonexistent          1.4          93.918          -42.7      4.966   \n",
            "14234  nonexistent          1.4          93.918          -42.7      4.962   \n",
            "16956  nonexistent          1.4          93.918          -42.7      4.962   \n",
            "18465  nonexistent          1.4          93.918          -42.7      4.968   \n",
            "20216  nonexistent          1.4          93.444          -36.1      4.965   \n",
            "20534  nonexistent          1.4          93.444          -36.1      4.966   \n",
            "25217  nonexistent         -0.1          93.200          -42.0      4.153   \n",
            "28477  nonexistent         -1.8          93.075          -47.1      1.423   \n",
            "32516  nonexistent         -1.8          92.893          -46.2      1.313   \n",
            "36951  nonexistent         -2.9          92.469          -33.6      1.072   \n",
            "38281  nonexistent         -3.4          92.431          -26.9      0.742   \n",
            "\n",
            "       nr.employed    y  \n",
            "1266        5191.0   no  \n",
            "12261       5228.1   no  \n",
            "14234       5228.1   no  \n",
            "16956       5228.1   no  \n",
            "18465       5228.1   no  \n",
            "20216       5228.1   no  \n",
            "20534       5228.1   no  \n",
            "25217       5195.8   no  \n",
            "28477       5099.1   no  \n",
            "32516       5099.1   no  \n",
            "36951       5076.2  yes  \n",
            "38281       5017.5   no  \n",
            "\n",
            "[12 rows x 21 columns]\n",
            "Cleaned dataset saved as: bank-add-new-dataset-cleaned.csv\n"
          ]
        }
      ]
    },
    {
      "cell_type": "markdown",
      "source": [
        "\n",
        "Encoded dataset\n"
      ],
      "metadata": {
        "id": "aG9AmwU6GFAO"
      }
    },
    {
      "cell_type": "code",
      "source": [
        "import pandas as pd\n",
        "\n",
        "# Load the dataset\n",
        "file_path = 'bank-add-new-dataset-cleaned (1).csv'\n",
        "data = pd.read_csv(file_path)\n",
        "\n",
        "# Display the first few rows of the dataset to understand its structure\n",
        "data.head()\n",
        "\n",
        "\n",
        "# Identify categorical columns\n",
        "categorical_columns = data.select_dtypes(include=['object']).columns\n",
        "\n",
        "# Perform one-hot encoding\n",
        "encoded_data = pd.get_dummies(data, columns=categorical_columns, drop_first=True)\n",
        "\n",
        "# Save the encoded dataset to a new CSV file\n",
        "encoded_file_path = 'Encoded_dataset.csv'\n",
        "encoded_data.to_csv(encoded_file_path, index=False)\n",
        "\n",
        "encoded_file_path"
      ],
      "metadata": {
        "colab": {
          "base_uri": "https://localhost:8080/",
          "height": 36
        },
        "id": "kqVC9nXUGIsf",
        "outputId": "377ea45d-2727-4d54-e9a0-8062addd5da1"
      },
      "execution_count": 5,
      "outputs": [
        {
          "output_type": "execute_result",
          "data": {
            "text/plain": [
              "'Encoded_dataset.csv'"
            ],
            "application/vnd.google.colaboratory.intrinsic+json": {
              "type": "string"
            }
          },
          "metadata": {},
          "execution_count": 5
        }
      ]
    }
  ]
}