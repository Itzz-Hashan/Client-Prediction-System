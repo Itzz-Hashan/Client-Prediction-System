{
  "nbformat": 4,
  "nbformat_minor": 0,
  "metadata": {
    "colab": {
      "provenance": [],
      "authorship_tag": "ABX9TyMA62pCVx0uhFbKc6Dd5VOj",
      "include_colab_link": true
    },
    "kernelspec": {
      "name": "python3",
      "display_name": "Python 3"
    },
    "language_info": {
      "name": "python"
    }
  },
  "cells": [
    {
      "cell_type": "markdown",
      "metadata": {
        "id": "view-in-github",
        "colab_type": "text"
      },
      "source": [
        "<a href=\"https://colab.research.google.com/github/Itzz-Hashan/Client-Prediction-System/blob/Data-cleaning-process/Preproccesing/Preproccesing.ipynb\" target=\"_parent\"><img src=\"https://colab.research.google.com/assets/colab-badge.svg\" alt=\"Open In Colab\"/></a>"
      ]
    },
    {
      "cell_type": "code",
      "execution_count": 2,
      "metadata": {
        "colab": {
          "base_uri": "https://localhost:8080/"
        },
        "id": "wqb5Ef06slim",
        "outputId": "4f5bef23-fe68-4a13-f309-ddb91550771c"
      },
      "outputs": [
        {
          "output_type": "stream",
          "name": "stdout",
          "text": [
            "New dataset saved as: bank-add-new-dataset.csv\n"
          ]
        }
      ],
      "source": [
        "import pandas as pd\n",
        "\n",
        "# File path to the original dataset\n",
        "file_path = \"bank-additional-full.csv\"\n",
        "\n",
        "# Load the dataset with the correct delimiter\n",
        "data = pd.read_csv(file_path, delimiter=\";\")\n",
        "\n",
        "# Save the dataset as a new CSV file\n",
        "new_file_path = \"bank-add-new-dataset.csv\"\n",
        "data.to_csv(new_file_path, index=False)\n",
        "\n",
        "print(f\"New dataset saved as: {new_file_path}\")\n"
      ]
    },
    {
      "cell_type": "markdown",
      "source": [
        "Duplicates checkout"
      ],
      "metadata": {
        "id": "HwFGbaJH1WNu"
      }
    },
    {
      "cell_type": "code",
      "source": [],
      "metadata": {
        "id": "PuDTe9h41bg2"
      },
      "execution_count": null,
      "outputs": []
    },
    {
      "cell_type": "code",
      "source": [
        "import pandas as pd\n",
        "\n",
        "# Load the dataset\n",
        "file_path = \"bank-add-new-dataset.csv\"\n",
        "data = pd.read_csv(file_path)\n",
        "\n",
        "# Check for duplicates\n",
        "duplicate_count = data.duplicated().sum()\n",
        "print(f\"Number of duplicate rows: {duplicate_count}\")\n",
        "\n",
        "# Display the duplicate rows\n",
        "if duplicate_count > 0:\n",
        "    duplicates = data[data.duplicated()]\n",
        "    print(\"Duplicate rows:\")\n",
        "    print(duplicates)\n",
        "else:\n",
        "    print(\"No duplicate rows found.\")\n",
        "\n",
        "# Remove duplicates if any\n",
        "data_cleaned = data.drop_duplicates()\n",
        "\n",
        "# Save the cleaned dataset\n",
        "cleaned_file_path = \"bank-add-new-dataset-cleaned.csv\"\n",
        "data_cleaned.to_csv(cleaned_file_path, index=False)\n",
        "print(f\"Cleaned dataset saved as: {cleaned_file_path}\")\n"
      ],
      "metadata": {
        "colab": {
          "base_uri": "https://localhost:8080/"
        },
        "id": "_TMxCcr91N6B",
        "outputId": "7cc45992-0ffd-4c14-8c72-16350a8ba039"
      },
      "execution_count": 4,
      "outputs": [
        {
          "output_type": "stream",
          "name": "stdout",
          "text": [
            "Number of duplicate rows: 12\n",
            "Cleaned dataset saved as: bank-add-new-dataset-cleaned.csv\n"
          ]
        }
      ]
    }
  ]
}